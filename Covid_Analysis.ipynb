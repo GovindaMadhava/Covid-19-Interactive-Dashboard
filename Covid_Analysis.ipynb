{
 "cells": [
  {
   "cell_type": "code",
   "execution_count": 22,
   "id": "b4e73431",
   "metadata": {},
   "outputs": [
    {
     "ename": "ModuleNotFoundError",
     "evalue": "No module named 'ipywidgets'",
     "output_type": "error",
     "traceback": [
      "\u001b[1;31m---------------------------------------------------------------------------\u001b[0m",
      "\u001b[1;31mModuleNotFoundError\u001b[0m                       Traceback (most recent call last)",
      "\u001b[1;32m~\\AppData\\Local\\Temp/ipykernel_18800/3707036370.py\u001b[0m in \u001b[0;36m<module>\u001b[1;34m\u001b[0m\n\u001b[0;32m      1\u001b[0m \u001b[1;32mfrom\u001b[0m \u001b[0m__future__\u001b[0m \u001b[1;32mimport\u001b[0m \u001b[0mprint_function\u001b[0m\u001b[1;33m\u001b[0m\u001b[1;33m\u001b[0m\u001b[0m\n\u001b[1;32m----> 2\u001b[1;33m \u001b[1;32mfrom\u001b[0m \u001b[0mipywidgets\u001b[0m \u001b[1;32mimport\u001b[0m \u001b[0minteract\u001b[0m\u001b[1;33m,\u001b[0m \u001b[0minteractive\u001b[0m\u001b[1;33m,\u001b[0m \u001b[0mfixed\u001b[0m\u001b[1;33m,\u001b[0m \u001b[0minteract_manual\u001b[0m\u001b[1;33m\u001b[0m\u001b[1;33m\u001b[0m\u001b[0m\n\u001b[0m\u001b[0;32m      3\u001b[0m \u001b[1;32mfrom\u001b[0m \u001b[0mIPython\u001b[0m\u001b[1;33m.\u001b[0m\u001b[0mcore\u001b[0m\u001b[1;33m.\u001b[0m\u001b[0mdisplay\u001b[0m \u001b[1;32mimport\u001b[0m \u001b[0mdisplay\u001b[0m\u001b[1;33m,\u001b[0m \u001b[0mHTML\u001b[0m\u001b[1;33m\u001b[0m\u001b[1;33m\u001b[0m\u001b[0m\n\u001b[0;32m      4\u001b[0m \u001b[1;32mfrom\u001b[0m \u001b[0mscipy\u001b[0m\u001b[1;33m.\u001b[0m\u001b[0minterpolate\u001b[0m \u001b[1;32mimport\u001b[0m \u001b[0minterp1d\u001b[0m\u001b[1;33m\u001b[0m\u001b[1;33m\u001b[0m\u001b[0m\n\u001b[0;32m      5\u001b[0m \u001b[1;32mimport\u001b[0m \u001b[0mnumpy\u001b[0m \u001b[1;32mas\u001b[0m \u001b[0mnp\u001b[0m\u001b[1;33m\u001b[0m\u001b[1;33m\u001b[0m\u001b[0m\n",
      "\u001b[1;31mModuleNotFoundError\u001b[0m: No module named 'ipywidgets'"
     ]
    }
   ],
   "source": [
    "from __future__ import print_function\n",
    "from ipywidgets import interact, interactive, fixed, interact_manual\n",
    "from IPython.core.display import display, HTML\n",
    "from scipy.interpolate import interp1d\n",
    "import numpy as np\n",
    "import pandas as pd\n",
    "import matplotlib.pyplot as plt\n",
    "import plotly.express as px\n",
    "import folium\n",
    "import plotly.graph_objects as go\n",
    "import seaborn as sns\n",
    "import ipywidgets as widgets\n",
    "from bs4 import BeautifulSoup\n",
    "import requests"
   ]
  },
  {
   "cell_type": "code",
   "execution_count": null,
   "id": "09717b12",
   "metadata": {},
   "outputs": [],
   "source": [
    "death_df = pd.read_csv('https://raw.githubusercontent.com/CSSEGISandData/COVID-19/master/csse_covid_19_data/csse_covid_19_time_series/time_series_covid19_deaths_global.csv')\n",
    "confirmed_df = pd.read_csv('https://raw.githubusercontent.com/CSSEGISandData/COVID-19/master/csse_covid_19_data/csse_covid_19_time_series/time_series_covid19_confirmed_global.csv')\n",
    "recovered_df = pd.read_csv('https://raw.githubusercontent.com/CSSEGISandData/COVID-19/master/csse_covid_19_data/csse_covid_19_time_series/time_series_covid19_recovered_global.csv')\n",
    "country_df = pd.read_csv('https://raw.githubusercontent.com/CSSEGISandData/COVID-19/web-data/data/cases_country.csv')"
   ]
  },
  {
   "cell_type": "code",
   "execution_count": null,
   "id": "5faa8da7",
   "metadata": {},
   "outputs": [],
   "source": [
    "# data cleaning\n",
    "\n",
    "# renaming the df column names to uppercase\n",
    "country_df.columns = map(str.upper, country_df.columns)\n",
    "confirmed_df.columns = map(str.upper, confirmed_df.columns)\n",
    "death_df.columns = map(str.upper, death_df.columns)\n",
    "recovered_df.columns = map(str.upper, recovered_df.columns)\n",
    "#renaming NaN as'Various'\n",
    "country_df.shape\n",
    "country_df.fillna(value=0,inplace=True)\n",
    "confirmed_df.fillna(value=0,inplace=True)\n",
    "death_df.fillna(value=0,inplace=True)\n",
    "recovered_df.fillna(value=0,inplace=True)\n"
   ]
  },
  {
   "cell_type": "code",
   "execution_count": null,
   "id": "db3c88be",
   "metadata": {
    "scrolled": true
   },
   "outputs": [],
   "source": [
    "death_df"
   ]
  },
  {
   "cell_type": "code",
   "execution_count": null,
   "id": "3abf26b3",
   "metadata": {},
   "outputs": [],
   "source": [
    "confirmed_df"
   ]
  },
  {
   "cell_type": "code",
   "execution_count": null,
   "id": "d7d987c0",
   "metadata": {},
   "outputs": [],
   "source": [
    "recovered_df"
   ]
  },
  {
   "cell_type": "code",
   "execution_count": null,
   "id": "9e55fdd9",
   "metadata": {},
   "outputs": [],
   "source": [
    "country_df"
   ]
  },
  {
   "cell_type": "code",
   "execution_count": null,
   "id": "c7ca798a",
   "metadata": {},
   "outputs": [],
   "source": [
    "# changing province/state to state and country/region to country\n",
    "confirmed_df = confirmed_df.rename(columns={'PROVINCE/STATE': 'STATE', 'COUNTRY/REGION': 'COUNTRY'})\n",
    "recovered_df = confirmed_df.rename(columns={'PROVINCE/STATE': 'STATE', 'COUNTRY/REGION': 'COUNTRY'})\n",
    "death_df = death_df.rename(columns={'PROVINCE/STATE': 'STATE', 'COUNTRY/REGION': 'COUNTRY'})\n",
    "country_df = country_df.rename(columns={'PROVINCE/STATE': 'STATE', 'COUNTRY_REGION': 'COUNTRY'})\n",
    "country_df"
   ]
  },
  {
   "cell_type": "markdown",
   "id": "e4ad05ba",
   "metadata": {},
   "source": [
    "# #top 10 countries which are worst affected by covid today"
   ]
  },
  {
   "cell_type": "code",
   "execution_count": null,
   "id": "584fb968",
   "metadata": {},
   "outputs": [],
   "source": [
    "sorted_country_df=country_df.sort_values('CONFIRMED',ascending=False).head(5)"
   ]
  },
  {
   "cell_type": "code",
   "execution_count": null,
   "id": "3af937b1",
   "metadata": {},
   "outputs": [],
   "source": [
    "sorted_country_df\n"
   ]
  },
  {
   "cell_type": "code",
   "execution_count": null,
   "id": "2b8ae784",
   "metadata": {},
   "outputs": [],
   "source": [
    "def highlight_col(x):\n",
    "  r='background-color:red'\n",
    "  p='background-color:pink'\n",
    "  g='background-color:green'\n",
    "  temp_df=pd.DataFrame('',index=x.index,columns=x.columns)\n",
    "  temp_df.iloc[:,4]=p\n",
    "  temp_df.iloc[:,5]=r\n",
    "  temp_df.iloc[:,6]=g\n",
    "  return temp_df\n",
    "sorted_country_df.head(10).style.apply(highlight_col,axis=None)"
   ]
  },
  {
   "cell_type": "code",
   "execution_count": null,
   "id": "63764987",
   "metadata": {},
   "outputs": [],
   "source": [
    "fig=px.scatter(sorted_country_df.head(10),x='COUNTRY',y='CONFIRMED',size='CONFIRMED',color='COUNTRY',\n",
    "               hover_name='COUNTRY',size_max=60)\n",
    "fig.update_layout()\n",
    "fig.show()"
   ]
  },
  {
   "cell_type": "code",
   "execution_count": null,
   "id": "a7b95b58",
   "metadata": {},
   "outputs": [],
   "source": [
    "def plot_cases_for_country(Ctry):\n",
    " labels=['confirmed','deaths']\n",
    " colors=['blue','red']\n",
    " mode_size=[6,8]\n",
    " line_size=[4,5]\n",
    " df_list=[confirmed_df,death_df]\n",
    " fig=go.Figure()\n",
    " for i, df in enumerate(df_list):\n",
    "    if(Ctry=='World'or Ctry=='world'):\n",
    "        x_data=np.array(list(df.iloc[:,5:].columns))\n",
    "        y_data=np.sum(np.asarray(df.iloc[:,5:]),axis=0)\n",
    "    else:\n",
    "        x_data=np.array(list(df.iloc[:,5:].columns))\n",
    "        y_data = np.sum(np.asarray(df[df['COUNTRY'] == Ctry].iloc[:,20:]),axis = 0)\n",
    "        print(i)\n",
    "        fig.add_trace(go.Scatter(x=x_data, y=y_data, mode='lines+markers',\n",
    "        name=labels[i],\n",
    "        line=dict(color=colors[i], width=line_size[i]),\n",
    "        connectgaps=True,\n",
    "        text = \"Total \" + str(labels[i]) +\": \"+ str(y_data[-1])\n",
    "        ));\n",
    "    \n",
    "    fig.update_layout(\n",
    "        title=\"COVID 19 cases of \" + Ctry,\n",
    "        xaxis_title='Date',\n",
    "        yaxis_title='No. of Confirmed Cases',\n",
    "        margin=dict(l=20, r=20, t=40, b=20),\n",
    "        paper_bgcolor=\"lightgrey\",\n",
    "        width = 800,\n",
    "        \n",
    "    );\n",
    "    \n",
    "    fig.update_yaxes(type=\"linear\")\n",
    " fig.show();\n",
    "plot_cases_for_country(\"India\")\n"
   ]
  },
  {
   "cell_type": "markdown",
   "id": "b70d8212",
   "metadata": {},
   "source": [
    "We could also see the data for different countries through a text box as:"
   ]
  },
  {
   "cell_type": "code",
   "execution_count": null,
   "id": "dbd98bc2",
   "metadata": {},
   "outputs": [],
   "source": [
    "interact(plot_cases_for_country,Ctry='World')"
   ]
  },
  {
   "cell_type": "code",
   "execution_count": null,
   "id": "3de56ab8",
   "metadata": {},
   "outputs": [],
   "source": [
    "df=pd.read_csv(r\"C:\\Users\\DIYA\\Downloads\\time_series_covid19_confirmed_global.csv\")"
   ]
  },
  {
   "cell_type": "code",
   "execution_count": null,
   "id": "70cdaa63",
   "metadata": {},
   "outputs": [],
   "source": [
    "df.head()"
   ]
  },
  {
   "cell_type": "code",
   "execution_count": null,
   "id": "7d7101ef",
   "metadata": {},
   "outputs": [],
   "source": [
    "list1=df.cases.values.tolist()\n",
    "m=interp1d([1,max(list1)],[5,18])\n",
    "circle_radius=m(list1)\n",
    "typelist=['openstreet-map','white-bg','carto-positron','carto-darkmatter','stamen-terrain','stamen-toner','stamen-watercolor']\n",
    "##plotting heatmap on top of worldmap\n",
    "for i in typelist:\n",
    "    print(i)\n",
    "    fig=px.density_mapbox(df,lat='Lat',lon='Long',radius=circle_radius,zoom=0,mapbox_style=i)\n",
    "    fig.show()"
   ]
  },
  {
   "cell_type": "code",
   "execution_count": null,
   "id": "8c3c2331",
   "metadata": {},
   "outputs": [],
   "source": [
    "!pip install jovian --upgrade -q"
   ]
  },
  {
   "cell_type": "code",
   "execution_count": null,
   "id": "d409acda",
   "metadata": {},
   "outputs": [],
   "source": [
    "import jovian"
   ]
  },
  {
   "cell_type": "code",
   "execution_count": null,
   "id": "64efac4c",
   "metadata": {},
   "outputs": [],
   "source": [
    "jovian.commit()"
   ]
  },
  {
   "cell_type": "code",
   "execution_count": null,
   "id": "54b6f829",
   "metadata": {},
   "outputs": [],
   "source": []
  },
  {
   "cell_type": "code",
   "execution_count": null,
   "id": "9107bc7f",
   "metadata": {},
   "outputs": [],
   "source": []
  },
  {
   "cell_type": "code",
   "execution_count": null,
   "id": "520a7e05-2db8-44be-a7fb-520544926e87",
   "metadata": {},
   "outputs": [],
   "source": []
  },
  {
   "cell_type": "code",
   "execution_count": null,
   "id": "e64917f1-f0da-4e3f-964d-ab3d402b85d3",
   "metadata": {},
   "outputs": [],
   "source": []
  },
  {
   "cell_type": "code",
   "execution_count": null,
   "id": "c571cb89-ef95-4205-9bef-7c4b025cbf8f",
   "metadata": {},
   "outputs": [],
   "source": []
  },
  {
   "cell_type": "code",
   "execution_count": null,
   "id": "fe1b1f32-ab56-43eb-b3f5-125f4ad8ca6b",
   "metadata": {},
   "outputs": [],
   "source": []
  },
  {
   "cell_type": "code",
   "execution_count": null,
   "id": "0275f014-5098-439d-bf4a-bfc6aa48cf83",
   "metadata": {},
   "outputs": [],
   "source": []
  },
  {
   "cell_type": "code",
   "execution_count": null,
   "id": "98a194ab-bacf-44a6-95da-74e4b6e5c728",
   "metadata": {},
   "outputs": [],
   "source": []
  },
  {
   "cell_type": "code",
   "execution_count": null,
   "id": "ae1252f0-0713-4f9d-a521-3657cb039771",
   "metadata": {},
   "outputs": [],
   "source": []
  },
  {
   "cell_type": "code",
   "execution_count": null,
   "id": "c982417c-a33a-4ad4-8d17-6928d5602104",
   "metadata": {},
   "outputs": [],
   "source": []
  },
  {
   "cell_type": "code",
   "execution_count": null,
   "id": "7a6e4409-4691-4cef-96e4-3d83251b0d9a",
   "metadata": {},
   "outputs": [],
   "source": []
  },
  {
   "cell_type": "code",
   "execution_count": null,
   "id": "0e599834-2456-49c6-8c27-166c212371aa",
   "metadata": {},
   "outputs": [],
   "source": []
  },
  {
   "cell_type": "code",
   "execution_count": null,
   "id": "567318af-f0a4-4648-8f28-eaf05c093057",
   "metadata": {},
   "outputs": [],
   "source": []
  },
  {
   "cell_type": "code",
   "execution_count": null,
   "id": "ae4742b2-e678-4540-8b18-dceb08ba9ac9",
   "metadata": {},
   "outputs": [],
   "source": []
  },
  {
   "cell_type": "code",
   "execution_count": null,
   "id": "02830be0-226e-435f-833a-12b3b968b076",
   "metadata": {},
   "outputs": [],
   "source": []
  },
  {
   "cell_type": "code",
   "execution_count": null,
   "id": "0d39d0d1-5b6e-4e98-881d-537f1cf66cea",
   "metadata": {},
   "outputs": [],
   "source": []
  },
  {
   "cell_type": "code",
   "execution_count": null,
   "id": "c512538b-85fe-42cc-8966-71efb7ff6e97",
   "metadata": {},
   "outputs": [],
   "source": []
  }
 ],
 "metadata": {
  "kernelspec": {
   "display_name": "Python 3 (ipykernel)",
   "language": "python",
   "name": "python3"
  },
  "language_info": {
   "codemirror_mode": {
    "name": "ipython",
    "version": 3
   },
   "file_extension": ".py",
   "mimetype": "text/x-python",
   "name": "python",
   "nbconvert_exporter": "python",
   "pygments_lexer": "ipython3",
   "version": "3.8.5"
  }
 },
 "nbformat": 4,
 "nbformat_minor": 5
}

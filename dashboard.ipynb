from __future__ import print_function
from ipywidgets import interact, interactive, fixed, interact_manual
from IPython.core.display import display, HTML
from scipy.interpolate import interp1d
import numpy as np
import pandas as pd
import matplotlib.pyplot as plt
import plotly.express as px
import folium
import plotly.graph_objects as go
import seaborn as sns
import ipywidgets as widgets
from bs4 import BeautifulSoup
import requests
---------------------------------------------------------------------------
ModuleNotFoundError                       Traceback (most recent call last)
~\AppData\Local\Temp/ipykernel_18800/3707036370.py in <module>
      1 from __future__ import print_function
----> 2 from ipywidgets import interact, interactive, fixed, interact_manual
      3 from IPython.core.display import display, HTML
      4 from scipy.interpolate import interp1d
      5 import numpy as np

ModuleNotFoundError: No module named 'ipywidgets'
death_df = pd.read_csv('https://raw.githubusercontent.com/CSSEGISandData/COVID-19/master/csse_covid_19_data/csse_covid_19_time_series/time_series_covid19_deaths_global.csv')
confirmed_df = pd.read_csv('https://raw.githubusercontent.com/CSSEGISandData/COVID-19/master/csse_covid_19_data/csse_covid_19_time_series/time_series_covid19_confirmed_global.csv')
recovered_df = pd.read_csv('https://raw.githubusercontent.com/CSSEGISandData/COVID-19/master/csse_covid_19_data/csse_covid_19_time_series/time_series_covid19_recovered_global.csv')
country_df = pd.read_csv('https://raw.githubusercontent.com/CSSEGISandData/COVID-19/web-data/data/cases_country.csv')
# data cleaning

# renaming the df column names to uppercase
country_df.columns = map(str.upper, country_df.columns)
confirmed_df.columns = map(str.upper, confirmed_df.columns)
death_df.columns = map(str.upper, death_df.columns)
recovered_df.columns = map(str.upper, recovered_df.columns)
#renaming NaN as'Various'
country_df.shape
country_df.fillna(value=0,inplace=True)
confirmed_df.fillna(value=0,inplace=True)
death_df.fillna(value=0,inplace=True)
recovered_df.fillna(value=0,inplace=True)
death_df
confirmed_df
recovered_df
country_df
# changing province/state to state and country/region to country
confirmed_df = confirmed_df.rename(columns={'PROVINCE/STATE': 'STATE', 'COUNTRY/REGION': 'COUNTRY'})
recovered_df = confirmed_df.rename(columns={'PROVINCE/STATE': 'STATE', 'COUNTRY/REGION': 'COUNTRY'})
death_df = death_df.rename(columns={'PROVINCE/STATE': 'STATE', 'COUNTRY/REGION': 'COUNTRY'})
country_df = country_df.rename(columns={'PROVINCE/STATE': 'STATE', 'COUNTRY_REGION': 'COUNTRY'})
country_df
#top 10 countries which are worst affected by covid today
sorted_country_df=country_df.sort_values('CONFIRMED',ascending=False).head(5)
sorted_country_df
def highlight_col(x):
  r='background-color:red'
  p='background-color:pink'
  g='background-color:green'
  temp_df=pd.DataFrame('',index=x.index,columns=x.columns)
  temp_df.iloc[:,4]=p
  temp_df.iloc[:,5]=r
  temp_df.iloc[:,6]=g
  return temp_df
sorted_country_df.head(10).style.apply(highlight_col,axis=None)
fig=px.scatter(sorted_country_df.head(10),x='COUNTRY',y='CONFIRMED',size='CONFIRMED',color='COUNTRY',
               hover_name='COUNTRY',size_max=60)
fig.update_layout()
fig.show()
def plot_cases_for_country(Ctry):
 labels=['confirmed','deaths']
 colors=['blue','red']
 mode_size=[6,8]
 line_size=[4,5]
 df_list=[confirmed_df,death_df]
 fig=go.Figure()
 for i, df in enumerate(df_list):
    if(Ctry=='World'or Ctry=='world'):
        x_data=np.array(list(df.iloc[:,5:].columns))
        y_data=np.sum(np.asarray(df.iloc[:,5:]),axis=0)
    else:
        x_data=np.array(list(df.iloc[:,5:].columns))
        y_data = np.sum(np.asarray(df[df['COUNTRY'] == Ctry].iloc[:,20:]),axis = 0)
        print(i)
        fig.add_trace(go.Scatter(x=x_data, y=y_data, mode='lines+markers',
        name=labels[i],
        line=dict(color=colors[i], width=line_size[i]),
        connectgaps=True,
        text = "Total " + str(labels[i]) +": "+ str(y_data[-1])
        ));
    
    fig.update_layout(
        title="COVID 19 cases of " + Ctry,
        xaxis_title='Date',
        yaxis_title='No. of Confirmed Cases',
        margin=dict(l=20, r=20, t=40, b=20),
        paper_bgcolor="lightgrey",
        width = 800,
        
    );
    
    fig.update_yaxes(type="linear")
 fig.show();
plot_cases_for_country("India")
We could also see the data for different countries through a text box as:

interact(plot_cases_for_country,Ctry='World')
df=pd.read_csv(r"C:\Users\DIYA\Downloads\time_series_covid19_confirmed_global.csv")
df.head()
list1=df.cases.values.tolist()
m=interp1d([1,max(list1)],[5,18])
circle_radius=m(list1)
typelist=['openstreet-map','white-bg','carto-positron','carto-darkmatter','stamen-terrain','stamen-toner','stamen-watercolor']
##plotting heatmap on top of worldmap
for i in typelist:
    print(i)
    fig=px.density_mapbox(df,lat='Lat',lon='Long',radius=circle_radius,zoom=0,mapbox_style=i)
    fig.show()
!pip install jovian --upgrade -q
import jovian
jovian.commit()
 
 
 
 
 
 
 
 
 
 
 
 
 
 
 
 
 